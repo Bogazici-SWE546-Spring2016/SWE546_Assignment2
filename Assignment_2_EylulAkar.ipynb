{
 "cells": [
  {
   "cell_type": "markdown",
   "metadata": {},
   "source": [
    "# SWE 546 - Assignment 2 \n"
   ]
  },
  {
   "cell_type": "markdown",
   "metadata": {},
   "source": [
    "Eylül Akar | 2015719003\n",
    "\n",
    "------------------------------------------------------\n",
    "## Logistic Regression\n",
    "\n",
    "Using the Iris dataset, find the optimum logistic regression parameters for the following three problems:\n",
    "\n",
    "Classify 1 versus 2,3\n",
    "Classify 2 versus 1,3\n",
    "Classify 3 versus 1,2 <br/>\n",
    "\n",
    "Your program should output three parameter vectors, each of lenght 4\n",
    "\n",
    "------------------------------------------------------"
   ]
  },
  {
   "cell_type": "code",
   "execution_count": 34,
   "metadata": {
    "collapsed": false
   },
   "outputs": [
    {
     "data": {
      "text/html": [
       "<div>\n",
       "<table border=\"1\" class=\"dataframe\">\n",
       "  <thead>\n",
       "    <tr style=\"text-align: right;\">\n",
       "      <th></th>\n",
       "      <th>sl</th>\n",
       "      <th>sw</th>\n",
       "      <th>pl</th>\n",
       "      <th>pw</th>\n",
       "      <th>c</th>\n",
       "    </tr>\n",
       "  </thead>\n",
       "  <tbody>\n",
       "    <tr>\n",
       "      <th>0</th>\n",
       "      <td>5.1</td>\n",
       "      <td>3.5</td>\n",
       "      <td>1.4</td>\n",
       "      <td>0.2</td>\n",
       "      <td>1</td>\n",
       "    </tr>\n",
       "    <tr>\n",
       "      <th>1</th>\n",
       "      <td>4.9</td>\n",
       "      <td>3.0</td>\n",
       "      <td>1.4</td>\n",
       "      <td>0.2</td>\n",
       "      <td>1</td>\n",
       "    </tr>\n",
       "    <tr>\n",
       "      <th>2</th>\n",
       "      <td>4.7</td>\n",
       "      <td>3.2</td>\n",
       "      <td>1.3</td>\n",
       "      <td>0.2</td>\n",
       "      <td>1</td>\n",
       "    </tr>\n",
       "    <tr>\n",
       "      <th>3</th>\n",
       "      <td>4.6</td>\n",
       "      <td>3.1</td>\n",
       "      <td>1.5</td>\n",
       "      <td>0.2</td>\n",
       "      <td>1</td>\n",
       "    </tr>\n",
       "    <tr>\n",
       "      <th>4</th>\n",
       "      <td>5.0</td>\n",
       "      <td>3.6</td>\n",
       "      <td>1.4</td>\n",
       "      <td>0.2</td>\n",
       "      <td>1</td>\n",
       "    </tr>\n",
       "  </tbody>\n",
       "</table>\n",
       "</div>"
      ],
      "text/plain": [
       "    sl   sw   pl   pw  c\n",
       "0  5.1  3.5  1.4  0.2  1\n",
       "1  4.9  3.0  1.4  0.2  1\n",
       "2  4.7  3.2  1.3  0.2  1\n",
       "3  4.6  3.1  1.5  0.2  1\n",
       "4  5.0  3.6  1.4  0.2  1"
      ]
     },
     "execution_count": 34,
     "metadata": {},
     "output_type": "execute_result"
    }
   ],
   "source": [
    "%matplotlib inline\n",
    "\n",
    "import numpy as np\n",
    "import pandas as pd\n",
    "\n",
    "df = pd.read_csv(\"iris.txt\", sep=\" \")\n",
    "df[:5]  ##sample data"
   ]
  },
  {
   "cell_type": "code",
   "execution_count": 20,
   "metadata": {
    "collapsed": false
   },
   "outputs": [
    {
     "data": {
      "text/plain": [
       "matrix([[ 5.1,  3.5,  1.4,  0.2],\n",
       "        [ 4.9,  3. ,  1.4,  0.2],\n",
       "        [ 4.7,  3.2,  1.3,  0.2],\n",
       "        [ 4.6,  3.1,  1.5,  0.2],\n",
       "        [ 5. ,  3.6,  1.4,  0.2]])"
      ]
     },
     "execution_count": 20,
     "metadata": {},
     "output_type": "execute_result"
    }
   ],
   "source": [
    "features = np.hstack([\n",
    "        np.matrix(df.sl).T, \n",
    "        np.matrix(df.sw).T, \n",
    "        np.matrix(df.pl).T, \n",
    "        np.matrix(df.pw).T])\n",
    "features[:5] "
   ]
  },
  {
   "cell_type": "code",
   "execution_count": 29,
   "metadata": {
    "collapsed": false
   },
   "outputs": [],
   "source": [
    "classes = np.matrix(df.c).T\n",
    "\n",
    "def sigmoid(x):\n",
    "    return 1/(1 + np.exp(-x))\n",
    "\n",
    "def classify(x, y, eta=0.001, iteration=10000):\n",
    "    w = np.matrix([1,1,1,1]).T    \n",
    "    for i in range(iteration):\n",
    "        pr = sigmoid(x * w)\n",
    "        w = w + eta * x.T * (y - pr)\n",
    "    return w\n",
    "\n",
    "\n",
    "def test(features, model, expectedOutput=1):\n",
    "    c = sigmoid(features * model)\n",
    "    c[ c < 0.5] = 0\n",
    "    c[ c >= 0.5] = 1\n",
    "    accuracy = float(len(c[c == expectedOutput].T)) / len(c)\n",
    "    return c, accuracy\n"
   ]
  },
  {
   "cell_type": "markdown",
   "metadata": {},
   "source": [
    "## whether Iris is Setosa"
   ]
  },
  {
   "cell_type": "code",
   "execution_count": 41,
   "metadata": {
    "collapsed": false
   },
   "outputs": [
    {
     "name": "stdout",
     "output_type": "stream",
     "text": [
      "w= [[ 0.71883956]\n",
      " [ 3.36466218]\n",
      " [-4.74062616]\n",
      " [-1.61263832]]\n",
      "sample result:  [[ 1.]\n",
      " [ 1.]\n",
      " [ 1.]] [[ 0.]\n",
      " [ 0.]\n",
      " [ 0.]] [[ 0.]\n",
      " [ 0.]\n",
      " [ 0.]]\n",
      "accucary: 100.0% \n"
     ]
    }
   ],
   "source": [
    "setosa = classify(features, y1)\n",
    "\n",
    "result1, accuracy1 = test(sampleSetosa, setosa, expectedOutput=1)\n",
    "result2, accuracy2 = test(sampleVersicolour, setosa, expectedOutput=0)\n",
    "result3, accuracy3 = test(sampleVirginica, setosa, expectedOutput=0)\n",
    "\n",
    "print \"w=\", modelSetosa\n",
    "print \"sample result: \", result1[:3], result2[:3], result3[:3]\n",
    "print \"accucary: {}% \".format((accuracy1 + accuracy2 + accuracy3) / 3 * 100)"
   ]
  },
  {
   "cell_type": "markdown",
   "metadata": {},
   "source": [
    "## whether Iris is Versicolour"
   ]
  },
  {
   "cell_type": "code",
   "execution_count": 42,
   "metadata": {
    "collapsed": false
   },
   "outputs": [
    {
     "name": "stdout",
     "output_type": "stream",
     "text": [
      "w= [[ 0.73300616]\n",
      " [-1.87866542]\n",
      " [ 1.04693053]\n",
      " [-2.84352623]]\n",
      "sample result:  [[ 0.]\n",
      " [ 0.]\n",
      " [ 0.]] [[ 1.]\n",
      " [ 0.]\n",
      " [ 1.]] [[ 0.]\n",
      " [ 0.]\n",
      " [ 0.]]\n",
      "accucary: 73.3333333333% \n"
     ]
    }
   ],
   "source": [
    "versicolour = classify(features, y2)\n",
    "\n",
    "result1, accuracy1 = test(sampleSetosa, versicolour, expectedOutput=0)\n",
    "result2, accuracy2 = test(sampleVersicolour, versicolour, expectedOutput=1)\n",
    "result3, accuracy3 = test(sampleVirginica, versicolour, expectedOutput=0)\n",
    "print \"w=\", modelVersicolour\n",
    "print \"sample result: \", result1[:3], result2[:3], result3[:3]\n",
    "print \"accucary: {}% \".format(\n",
    "    (accuracy1 + accuracy2 + accuracy3) / 3 * 100)"
   ]
  },
  {
   "cell_type": "markdown",
   "metadata": {},
   "source": [
    "## whether Iris is Virginica"
   ]
  },
  {
   "cell_type": "code",
   "execution_count": 43,
   "metadata": {
    "collapsed": false
   },
   "outputs": [
    {
     "name": "stdout",
     "output_type": "stream",
     "text": [
      "[[-4.80685745]\n",
      " [-4.96911165]\n",
      " [ 6.35877022]\n",
      " [ 7.88567013]]\n",
      "sample result:  [[ 0.]\n",
      " [ 0.]\n",
      " [ 0.]] [[ 0.]\n",
      " [ 0.]\n",
      " [ 0.]] [[ 1.]\n",
      " [ 1.]\n",
      " [ 1.]]\n",
      "accucary: 96.6666666667% \n"
     ]
    }
   ],
   "source": [
    "virginica = classify(features, y3)\n",
    "\n",
    "result1, accuracy1 = test(sampleSetosa, virginica, expectedOutput=0)\n",
    "result2, accuracy2 = test(sampleVersicolour, virginica, expectedOutput=0)\n",
    "result3, accuracy3 = test(sampleVirginica, virginica, expectedOutput=1)\n",
    "\n",
    "print modelVirginica\n",
    "print \"sample result: \", result1[:3], result2[:3], result3[:3]\n",
    "\n",
    "print \"accucary: {}% \".format(\n",
    "    (accuracy1 + accuracy2 + accuracy3) / 3 * 100)"
   ]
  },
  {
   "cell_type": "code",
   "execution_count": null,
   "metadata": {
    "collapsed": true
   },
   "outputs": [],
   "source": []
  }
 ],
 "metadata": {
  "kernelspec": {
   "display_name": "Python 2",
   "language": "python",
   "name": "python2"
  },
  "language_info": {
   "codemirror_mode": {
    "name": "ipython",
    "version": 2
   },
   "file_extension": ".py",
   "mimetype": "text/x-python",
   "name": "python",
   "nbconvert_exporter": "python",
   "pygments_lexer": "ipython2",
   "version": "2.7.11"
  }
 },
 "nbformat": 4,
 "nbformat_minor": 0
}
