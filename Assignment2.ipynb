{
 "cells": [
  {
   "cell_type": "markdown",
   "metadata": {},
   "source": [
    "### SWE546 - Assignment 2\n",
    "Student: Mustafa Atik <muatik@gmail.com> 2015719018"
   ]
  },
  {
   "cell_type": "code",
   "execution_count": 435,
   "metadata": {
    "collapsed": false
   },
   "outputs": [],
   "source": [
    "import numpy as np\n",
    "import pandas as pd"
   ]
  },
  {
   "cell_type": "code",
   "execution_count": 394,
   "metadata": {
    "collapsed": false
   },
   "outputs": [
    {
     "data": {
      "text/html": [
       "<div>\n",
       "<table border=\"1\" class=\"dataframe\">\n",
       "  <thead>\n",
       "    <tr style=\"text-align: right;\">\n",
       "      <th></th>\n",
       "      <th>sl</th>\n",
       "      <th>sw</th>\n",
       "      <th>pl</th>\n",
       "      <th>pw</th>\n",
       "      <th>c</th>\n",
       "    </tr>\n",
       "  </thead>\n",
       "  <tbody>\n",
       "    <tr>\n",
       "      <th>0</th>\n",
       "      <td>5.1</td>\n",
       "      <td>3.5</td>\n",
       "      <td>1.4</td>\n",
       "      <td>0.2</td>\n",
       "      <td>1</td>\n",
       "    </tr>\n",
       "    <tr>\n",
       "      <th>1</th>\n",
       "      <td>4.9</td>\n",
       "      <td>3.0</td>\n",
       "      <td>1.4</td>\n",
       "      <td>0.2</td>\n",
       "      <td>1</td>\n",
       "    </tr>\n",
       "    <tr>\n",
       "      <th>2</th>\n",
       "      <td>4.7</td>\n",
       "      <td>3.2</td>\n",
       "      <td>1.3</td>\n",
       "      <td>0.2</td>\n",
       "      <td>1</td>\n",
       "    </tr>\n",
       "    <tr>\n",
       "      <th>3</th>\n",
       "      <td>4.6</td>\n",
       "      <td>3.1</td>\n",
       "      <td>1.5</td>\n",
       "      <td>0.2</td>\n",
       "      <td>1</td>\n",
       "    </tr>\n",
       "    <tr>\n",
       "      <th>4</th>\n",
       "      <td>5.0</td>\n",
       "      <td>3.6</td>\n",
       "      <td>1.4</td>\n",
       "      <td>0.2</td>\n",
       "      <td>1</td>\n",
       "    </tr>\n",
       "    <tr>\n",
       "      <th>5</th>\n",
       "      <td>5.4</td>\n",
       "      <td>3.9</td>\n",
       "      <td>1.7</td>\n",
       "      <td>0.4</td>\n",
       "      <td>1</td>\n",
       "    </tr>\n",
       "    <tr>\n",
       "      <th>6</th>\n",
       "      <td>4.6</td>\n",
       "      <td>3.4</td>\n",
       "      <td>1.4</td>\n",
       "      <td>0.3</td>\n",
       "      <td>1</td>\n",
       "    </tr>\n",
       "    <tr>\n",
       "      <th>7</th>\n",
       "      <td>5.0</td>\n",
       "      <td>3.4</td>\n",
       "      <td>1.5</td>\n",
       "      <td>0.2</td>\n",
       "      <td>1</td>\n",
       "    </tr>\n",
       "    <tr>\n",
       "      <th>8</th>\n",
       "      <td>4.4</td>\n",
       "      <td>2.9</td>\n",
       "      <td>1.4</td>\n",
       "      <td>0.2</td>\n",
       "      <td>1</td>\n",
       "    </tr>\n",
       "    <tr>\n",
       "      <th>9</th>\n",
       "      <td>4.9</td>\n",
       "      <td>3.1</td>\n",
       "      <td>1.5</td>\n",
       "      <td>0.1</td>\n",
       "      <td>1</td>\n",
       "    </tr>\n",
       "  </tbody>\n",
       "</table>\n",
       "</div>"
      ],
      "text/plain": [
       "    sl   sw   pl   pw  c\n",
       "0  5.1  3.5  1.4  0.2  1\n",
       "1  4.9  3.0  1.4  0.2  1\n",
       "2  4.7  3.2  1.3  0.2  1\n",
       "3  4.6  3.1  1.5  0.2  1\n",
       "4  5.0  3.6  1.4  0.2  1\n",
       "5  5.4  3.9  1.7  0.4  1\n",
       "6  4.6  3.4  1.4  0.3  1\n",
       "7  5.0  3.4  1.5  0.2  1\n",
       "8  4.4  2.9  1.4  0.2  1\n",
       "9  4.9  3.1  1.5  0.1  1"
      ]
     },
     "execution_count": 394,
     "metadata": {},
     "output_type": "execute_result"
    }
   ],
   "source": [
    "df = pd.read_csv(\"iris.txt\", sep=\" \")\n",
    "df[:10]  # sample data"
   ]
  },
  {
   "cell_type": "code",
   "execution_count": 374,
   "metadata": {
    "collapsed": false
   },
   "outputs": [
    {
     "data": {
      "text/plain": [
       "matrix([[ 5.1,  3.5,  1.4,  0.2],\n",
       "        [ 4.9,  3. ,  1.4,  0.2],\n",
       "        [ 4.7,  3.2,  1.3,  0.2],\n",
       "        [ 4.6,  3.1,  1.5,  0.2],\n",
       "        [ 5. ,  3.6,  1.4,  0.2]])"
      ]
     },
     "execution_count": 374,
     "metadata": {},
     "output_type": "execute_result"
    }
   ],
   "source": [
    "features = np.hstack([\n",
    "        np.matrix(df.sl).T, \n",
    "        np.matrix(df.sw).T, \n",
    "        np.matrix(df.pl).T, \n",
    "        np.matrix(df.pw).T])\n",
    "features[:5] # sample view"
   ]
  },
  {
   "cell_type": "code",
   "execution_count": 375,
   "metadata": {
    "collapsed": false
   },
   "outputs": [],
   "source": [
    "classes = np.matrix(df.c).T"
   ]
  },
  {
   "cell_type": "code",
   "execution_count": 376,
   "metadata": {
    "collapsed": true
   },
   "outputs": [],
   "source": [
    "def sigmoid(x):\n",
    "    return 1/(1 + np.exp(-x))"
   ]
  },
  {
   "cell_type": "code",
   "execution_count": 405,
   "metadata": {
    "collapsed": false
   },
   "outputs": [],
   "source": [
    "def classify(x, y, eta=0.001, iteration=10000):\n",
    "    w = np.matrix([1,1,1,1]).T    \n",
    "    for i in range(iteration):\n",
    "        pr = sigmoid(x * w)\n",
    "        w = w + eta * x.T * (y - pr)\n",
    "    return w"
   ]
  },
  {
   "cell_type": "code",
   "execution_count": 406,
   "metadata": {
    "collapsed": false
   },
   "outputs": [],
   "source": [
    "def test(features, model, expectedOutput=1):\n",
    "    c = sigmoid(features * model)\n",
    "    c[ c < 0.5] = 0\n",
    "    c[ c >= 0.5] = 1\n",
    "    accuracy = float(len(c[c == expectedOutput].T)) / len(c)\n",
    "    return c, accuracy"
   ]
  },
  {
   "cell_type": "markdown",
   "metadata": {},
   "source": [
    "## preparing training and test data"
   ]
  },
  {
   "cell_type": "code",
   "execution_count": 431,
   "metadata": {
    "collapsed": false
   },
   "outputs": [],
   "source": [
    "# assigning zero values to Versicolour and Virginica classes\n",
    "y1 = np.matrix([int(i < 2) for i in classes]).T\n",
    "\n",
    "# assigning zero values to Setosa and Virginica classes\n",
    "y2 = np.matrix([int(1 < i < 3)for i in classes]).T\n",
    "\n",
    "# assigning zero values to Setosa and Versicolour classes\n",
    "y3 = np.matrix([int(2 < i) for i in classes]).T\n",
    "\n",
    "sampleSetosa = features[0:50]\n",
    "sampleVersicolour = features[50:100]\n",
    "sampleVirginica = features[100:150]"
   ]
  },
  {
   "cell_type": "markdown",
   "metadata": {},
   "source": [
    "### Is it Iris Setosa or not?"
   ]
  },
  {
   "cell_type": "code",
   "execution_count": 432,
   "metadata": {
    "collapsed": false
   },
   "outputs": [
    {
     "name": "stdout",
     "output_type": "stream",
     "text": [
      "w= [[ 0.71883956]\n",
      " [ 3.36466218]\n",
      " [-4.74062616]\n",
      " [-1.61263832]]\n",
      "sample result:  [[ 1.]\n",
      " [ 1.]\n",
      " [ 1.]\n",
      " [ 1.]\n",
      " [ 1.]] [[ 0.]\n",
      " [ 0.]\n",
      " [ 0.]\n",
      " [ 0.]\n",
      " [ 0.]] [[ 0.]\n",
      " [ 0.]\n",
      " [ 0.]\n",
      " [ 0.]\n",
      " [ 0.]]\n",
      "the modelSetosa's accucary: 100.0% \n"
     ]
    }
   ],
   "source": [
    "modelSetosa = classify(features, y1)\n",
    "\n",
    "result1, accuracy1 = test(sampleSetosa, setosaModel, expectedOutput=1)\n",
    "result2, accuracy2 = test(sampleVersicolour, setosaModel, expectedOutput=0)\n",
    "result3, accuracy3 = test(sampleVirginica, setosaModel, expectedOutput=0)\n",
    "print \"w=\", modelSetosa\n",
    "print \"sample result: \", result1[:5], result2[:5], result3[:5]\n",
    "print \"the modelSetosa's accucary: {}% \".format((accuracy1 + accuracy2 + accuracy3) / 3 * 100)"
   ]
  },
  {
   "cell_type": "markdown",
   "metadata": {},
   "source": [
    "### Is it Iris Versicolour or not?"
   ]
  },
  {
   "cell_type": "code",
   "execution_count": 433,
   "metadata": {
    "collapsed": false
   },
   "outputs": [
    {
     "name": "stdout",
     "output_type": "stream",
     "text": [
      "w= [[ 0.73300616]\n",
      " [-1.87866542]\n",
      " [ 1.04693053]\n",
      " [-2.84352623]]\n",
      "sample result:  [[ 0.]\n",
      " [ 0.]\n",
      " [ 0.]\n",
      " [ 0.]\n",
      " [ 0.]] [[ 1.]\n",
      " [ 0.]\n",
      " [ 1.]\n",
      " [ 1.]\n",
      " [ 1.]] [[ 0.]\n",
      " [ 0.]\n",
      " [ 0.]\n",
      " [ 0.]\n",
      " [ 0.]]\n",
      "the modelVersicolour's accucary: 73.3333333333% \n"
     ]
    }
   ],
   "source": [
    "modelVersicolour = classify(features, y2)\n",
    "\n",
    "result1, accuracy1 = test(sampleSetosa, modelVersicolour, expectedOutput=0)\n",
    "result2, accuracy2 = test(sampleVersicolour, modelVersicolour, expectedOutput=1)\n",
    "result3, accuracy3 = test(sampleVirginica, modelVersicolour, expectedOutput=0)\n",
    "print \"w=\", modelVersicolour\n",
    "print \"sample result: \", result1[:5], result2[:5], result3[:5]\n",
    "print \"the modelVersicolour's accucary: {}% \".format(\n",
    "    (accuracy1 + accuracy2 + accuracy3) / 3 * 100)"
   ]
  },
  {
   "cell_type": "markdown",
   "metadata": {},
   "source": [
    "### Is it Iris Virginica or not?"
   ]
  },
  {
   "cell_type": "code",
   "execution_count": 434,
   "metadata": {
    "collapsed": false
   },
   "outputs": [
    {
     "name": "stdout",
     "output_type": "stream",
     "text": [
      "w= [[-4.80685745]\n",
      " [-4.96911165]\n",
      " [ 6.35877022]\n",
      " [ 7.88567013]]\n",
      "sample result:  [[ 0.]\n",
      " [ 0.]\n",
      " [ 0.]\n",
      " [ 0.]\n",
      " [ 0.]] [[ 0.]\n",
      " [ 0.]\n",
      " [ 0.]\n",
      " [ 0.]\n",
      " [ 0.]] [[ 1.]\n",
      " [ 1.]\n",
      " [ 1.]\n",
      " [ 1.]\n",
      " [ 1.]]\n",
      "the modelVersicolour's accucary: 96.6666666667% \n"
     ]
    }
   ],
   "source": [
    "modelVirginica = classify(features, y3)\n",
    "\n",
    "result1, accuracy1 = test(sampleSetosa, modelVirginica, expectedOutput=0)\n",
    "result2, accuracy2 = test(sampleVersicolour, modelVirginica, expectedOutput=0)\n",
    "result3, accuracy3 = test(sampleVirginica, modelVirginica, expectedOutput=1)\n",
    "print \"w=\", modelVirginica\n",
    "print \"sample result: \", result1[:5], result2[:5], result3[:5]\n",
    "print \"the modelVersicolour's accucary: {}% \".format(\n",
    "    (accuracy1 + accuracy2 + accuracy3) / 3 * 100)"
   ]
  },
  {
   "cell_type": "code",
   "execution_count": null,
   "metadata": {
    "collapsed": true
   },
   "outputs": [],
   "source": []
  }
 ],
 "metadata": {
  "kernelspec": {
   "display_name": "Python 2",
   "language": "python",
   "name": "python2"
  },
  "language_info": {
   "codemirror_mode": {
    "name": "ipython",
    "version": 2
   },
   "file_extension": ".py",
   "mimetype": "text/x-python",
   "name": "python",
   "nbconvert_exporter": "python",
   "pygments_lexer": "ipython2",
   "version": "2.7.10"
  }
 },
 "nbformat": 4,
 "nbformat_minor": 0
}
