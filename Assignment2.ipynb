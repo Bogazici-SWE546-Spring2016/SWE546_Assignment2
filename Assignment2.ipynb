{
 "cells": [
  {
   "cell_type": "code",
   "execution_count": null,
   "metadata": {
    "collapsed": true
   },
   "outputs": [],
   "source": [
    "SWE546_Assignment2\n",
    "Logistic Regression\n",
    "\n",
    "Using the Iris dataset, find the optimum logistic regression parameters for the following three problems:\n",
    "\n",
    "Classify 1 versus 2,3\n",
    "Classify 2 versus 1,3\n",
    "Classify 3 versus 1,2\n",
    "Your program should output three parameter vectors, each of lenght 4\n",
    "\n",
    "Student Name : Zeyneb ESENDİR"
   ]
  },
  {
   "cell_type": "code",
   "execution_count": 51,
   "metadata": {
    "collapsed": false,
    "scrolled": true
   },
   "outputs": [
    {
     "name": "stdout",
     "output_type": "stream",
     "text": [
      "classify  1  versus 2,3 \n",
      "\n",
      " [[ 0.71883956]\n",
      " [ 3.36466218]\n",
      " [-4.74062616]\n",
      " [-1.61263832]]\n",
      "\n",
      " classify  2  versus 1,3 \n",
      "\n",
      " [[ 0.73300616]\n",
      " [-1.87866542]\n",
      " [ 1.04693053]\n",
      " [-2.84352623]]\n",
      "\n",
      " classify  3  versus 1,2 \n",
      "\n",
      " [[-4.80685745]\n",
      " [-4.96911165]\n",
      " [ 6.35877022]\n",
      " [ 7.88567013]]\n"
     ]
    }
   ],
   "source": [
    "%matplotlib inline\n",
    "\n",
    "import scipy as sc\n",
    "import numpy as np\n",
    "import pandas as pd\n",
    "import matplotlib as mpl\n",
    "import matplotlib.pylab as plt\n",
    "import sys\n",
    "\n",
    "fileName='data/iris.txt'\n",
    "eta = 0.001\n",
    "\n",
    "#read iris.txt and put values into irisData \n",
    "irisData = pd.read_csv(fileName,sep=' ')\n",
    "\n",
    "#sigmoid func\n",
    "def sigmoid(x):\n",
    "    return 1/(1 + np.exp(-x))\n",
    "\n",
    "\n",
    "\n",
    "#do all procedures are listed below for 1,2 and 3\n",
    "for value in range(1,4):\n",
    "    # original columns in txt file : sl sw pl pw c // create new matrix using the columns\n",
    "    x = np.hstack((np.matrix(irisData.sl[0:]).T,np.matrix(irisData.sw[0:]).T,np.matrix(irisData.pl[0:]).T,np.matrix(irisData.pw[0:]).T))\n",
    "    w = np.matrix([1,1,1,1]).T\n",
    "    z= np.matrix(irisData.c[0:]).T\n",
    "    \n",
    "    for i in range(150):\n",
    "            if z[i,0] == value:\n",
    "                z[i,0] = 1\n",
    "            else:\n",
    "                z[i,0] = 0\n",
    "\n",
    "    for i in range(10000):\n",
    "        pr = sigmoid(x*w)\n",
    "        w = w + eta*x.T*(z-pr) \n",
    "\n",
    "        \n",
    "    if value==1:\n",
    "        print(\"classify \" , value,\" versus 2,3\",'\\n\\n',w)\n",
    "    if value==2:\n",
    "        print('\\n',\"classify \" , value,\" versus 1,3\",'\\n\\n',w)\n",
    "    if value==3:\n",
    "        print('\\n',\"classify \" , value,\" versus 1,2\",'\\n\\n',w)\n"
   ]
  },
  {
   "cell_type": "code",
   "execution_count": null,
   "metadata": {
    "collapsed": true
   },
   "outputs": [],
   "source": []
  }
 ],
 "metadata": {
  "kernelspec": {
   "display_name": "Python 3",
   "language": "python",
   "name": "python3"
  },
  "language_info": {
   "codemirror_mode": {
    "name": "ipython",
    "version": 3
   },
   "file_extension": ".py",
   "mimetype": "text/x-python",
   "name": "python",
   "nbconvert_exporter": "python",
   "pygments_lexer": "ipython3",
   "version": "3.5.1"
  }
 },
 "nbformat": 4,
 "nbformat_minor": 0
}
