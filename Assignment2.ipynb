{
 "cells": [
  {
   "cell_type": "code",
   "execution_count": 1,
   "metadata": {
    "collapsed": false
   },
   "outputs": [
    {
     "name": "stdout",
     "output_type": "stream",
     "text": [
      "Classify 1 versus 2,3:\n",
      "[[ 0.71883956]\n",
      " [ 3.36466218]\n",
      " [-4.74062616]\n",
      " [-1.61263832]]\n",
      "Classify 2 versus 1,3:\n",
      "[[ 0.73300616]\n",
      " [-1.87866542]\n",
      " [ 1.04693053]\n",
      " [-2.84352623]]\n",
      "Classify 3 versus 1,2:\n",
      "[[-4.80685745]\n",
      " [-4.96911165]\n",
      " [ 6.35877022]\n",
      " [ 7.88567013]]\n"
     ]
    }
   ],
   "source": [
    "import numpy as np\n",
    "import pandas as pd\n",
    "from numpy import genfromtxt\n",
    "\n",
    "def sigmoid(x):\n",
    "    return 1 / (1 + np.exp(-x))\n",
    "\n",
    "def classify(category, x, y):\n",
    "   \n",
    "    y_test = y.copy()\n",
    "    w = np.matrix([1,1,1,1]).T\n",
    "    eta = 0.001\n",
    "    \n",
    "    for i in range(len(y_test)):\n",
    "        if (y_test[i,0] == category):\n",
    "            y_test[i,0] = 1\n",
    "        else:\n",
    "            y_test[i,0] = 0\n",
    "      \n",
    "    for i in range(10000):\n",
    "        pr = sigmoid(x*w)\n",
    "        w = w + eta*x.T*(y_test-pr)\n",
    "\n",
    "    return w\n",
    "\n",
    "# 'skip_header' skips (1) row (which is the header) \n",
    "data_array = genfromtxt('data/iris.txt', delimiter=' ', usecols = (0,1,2,3), skip_header = 1)\n",
    "category_array = genfromtxt('data/iris.txt', delimiter=' ', usecols = (4), skip_header = 1)\n",
    "\n",
    "x = np.matrix(data_array)\n",
    "y = np.matrix(category_array).T\n",
    "\n",
    "print (\"Classify 1 versus 2,3:\")\n",
    "w = classify(1, x, y)\n",
    "print (w)\n",
    "\n",
    "print (\"Classify 2 versus 1,3:\")\n",
    "w = classify(2, x, y)\n",
    "print (w)\n",
    "\n",
    "print (\"Classify 3 versus 1,2:\")\n",
    "w = classify(3, x, y)\n",
    "print (w)"
   ]
  }
 ],
 "metadata": {
  "kernelspec": {
   "display_name": "Python 3",
   "language": "python",
   "name": "python3"
  },
  "language_info": {
   "codemirror_mode": {
    "name": "ipython",
    "version": 3
   },
   "file_extension": ".py",
   "mimetype": "text/x-python",
   "name": "python",
   "nbconvert_exporter": "python",
   "pygments_lexer": "ipython3",
   "version": "3.5.1"
  }
 },
 "nbformat": 4,
 "nbformat_minor": 0
}
