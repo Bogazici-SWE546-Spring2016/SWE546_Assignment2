{
 "cells": [
  {
   "cell_type": "code",
   "execution_count": 3,
   "metadata": {
    "collapsed": true
   },
   "outputs": [],
   "source": [
    "%matplotlib inline\n",
    "import numpy as np\n",
    "import pandas as pd"
   ]
  },
  {
   "cell_type": "code",
   "execution_count": 4,
   "metadata": {
    "collapsed": true
   },
   "outputs": [],
   "source": [
    "class IrisModel(object):\n",
    "\n",
    "    def __init__(self, file_name, seperator=' '):\n",
    "        data = pd.read_csv(u'data/{0}'.format(file_name), sep=seperator)\n",
    "\n",
    "        feature1 = np.matrix(data.sl[0:]).T\n",
    "        feature2 = np.matrix(data.sw[0:]).T\n",
    "        feature3 = np.matrix(data.pl[0:]).T\n",
    "        feature4 = np.matrix(data.pw[0:]).T\n",
    "\n",
    "        self.X = np.hstack((feature1, feature2, feature3, feature4))\n",
    "        self.c = np.matrix(data.c[0:]).T\n",
    "\n",
    "    def sigmoid(self, x):\n",
    "        return 1 / (1 + np.exp(-x))\n",
    "\n",
    "    def classify(self, category, iteration_count=10000, eta=0.001):\n",
    "        y = self.c.copy()\n",
    "        w = np.matrix([1,1,1,1]).T\n",
    "\n",
    "        item_count = len(y)\n",
    "        for i in range(item_count):\n",
    "            y[i,0] = 1 if y[i,0] == category else 0\n",
    "\n",
    "        for i in range(iteration_count):\n",
    "            pr = self.sigmoid(self.X * w)\n",
    "            w = w + eta * self.X.T * (y - pr)\n",
    "\n",
    "        return w"
   ]
  },
  {
   "cell_type": "code",
   "execution_count": 5,
   "metadata": {
    "collapsed": false
   },
   "outputs": [],
   "source": [
    "model = IrisModel('iris.txt');"
   ]
  },
  {
   "cell_type": "code",
   "execution_count": 11,
   "metadata": {
    "collapsed": false
   },
   "outputs": [
    {
     "name": "stdout",
     "output_type": "stream",
     "text": [
      "# Classify 1 versus 2,3\n",
      "[[ 0.71883956]\n",
      " [ 3.36466218]\n",
      " [-4.74062616]\n",
      " [-1.61263832]]\n"
     ]
    }
   ],
   "source": [
    "print('# Classify 1 versus 2,3')\n",
    "w1 = model.classify(1)\n",
    "print(w1)"
   ]
  },
  {
   "cell_type": "code",
   "execution_count": 10,
   "metadata": {
    "collapsed": false
   },
   "outputs": [
    {
     "name": "stdout",
     "output_type": "stream",
     "text": [
      "# Classify 2 versus 1,3\n",
      "[[ 0.73300616]\n",
      " [-1.87866542]\n",
      " [ 1.04693053]\n",
      " [-2.84352623]]\n"
     ]
    }
   ],
   "source": [
    "print('# Classify 2 versus 1,3')\n",
    "w2 = model.classify(2)\n",
    "print(w2)"
   ]
  },
  {
   "cell_type": "code",
   "execution_count": 12,
   "metadata": {
    "collapsed": false
   },
   "outputs": [
    {
     "name": "stdout",
     "output_type": "stream",
     "text": [
      "# Classify 3 versus 1,2\n",
      "[[-4.80685745]\n",
      " [-4.96911165]\n",
      " [ 6.35877022]\n",
      " [ 7.88567013]]\n"
     ]
    }
   ],
   "source": [
    "print('# Classify 3 versus 1,2')\n",
    "w3 = model.classify(3)\n",
    "print(w3)"
   ]
  },
  {
   "cell_type": "code",
   "execution_count": null,
   "metadata": {
    "collapsed": true
   },
   "outputs": [],
   "source": []
  }
 ],
 "metadata": {
  "kernelspec": {
   "display_name": "Python 3",
   "language": "python",
   "name": "python3"
  },
  "language_info": {
   "codemirror_mode": {
    "name": "ipython",
    "version": 3
   },
   "file_extension": ".py",
   "mimetype": "text/x-python",
   "name": "python",
   "nbconvert_exporter": "python",
   "pygments_lexer": "ipython3",
   "version": "3.5.1"
  }
 },
 "nbformat": 4,
 "nbformat_minor": 0
}
