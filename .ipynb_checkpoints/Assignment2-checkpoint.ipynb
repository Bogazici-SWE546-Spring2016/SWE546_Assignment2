{
 "cells": [
  {
   "cell_type": "code",
   "execution_count": 6,
   "metadata": {
    "collapsed": false
   },
   "outputs": [
    {
     "name": "stdout",
     "output_type": "stream",
     "text": [
      "Classify 1 versus 2,3\n",
      "[[ 0.24393738]\n",
      " [ 3.96149207]\n",
      " [-4.37605233]\n",
      " [-1.83601484]]\n",
      "\n",
      "\n",
      "Classify 2 versus 1,3\n",
      "[[ 0.73248272]\n",
      " [-1.87817388]\n",
      " [ 1.04781246]\n",
      " [-2.84501201]]\n",
      "\n",
      "\n",
      "Classify 3 versus 1,2\n",
      "[[-4.83615723]\n",
      " [-4.95078113]\n",
      " [ 6.40550437]\n",
      " [ 7.82492124]]\n",
      "\n",
      "\n"
     ]
    }
   ],
   "source": [
    "# Logistic Regression\n",
    "# Using the Iris dataset, find the optimum logistic regression parameters for the following three problems:\n",
    "# - Classify 1 versus 2,3\n",
    "# - Classify 2 versus 1,3\n",
    "# - Classify 3 versus 1,2\n",
    "# Your program should output three parameter vectors, each of lenght 4\n",
    "\n",
    "%matplotlib inline\n",
    "from cvxpy import *\n",
    "import numpy as np\n",
    "import matplotlib as mpl\n",
    "import matplotlib.pylab as plt\n",
    "import pandas as pd\n",
    "\n",
    "#load data from file\n",
    "dfIrisAll = pd.read_csv(u'data/iris.txt',sep=' ')\n",
    "dfIrisClass = dfIrisAll[['c']]\n",
    "dfIrisAll = dfIrisAll[['sl','sw','pl','pw']]\n",
    "\n",
    "#print(dfIrisAll.describe())\n",
    "\n",
    "y1 = np.matrix(dfIrisClass.replace(2,0, regex=True).replace(3,0, regex=True))\n",
    "y2 = np.matrix(dfIrisClass.replace(1,0, regex=True).replace(3,0, regex=True).replace(2,1, regex=True))\n",
    "y3 = np.matrix(dfIrisClass.replace(1,0, regex=True).replace(2,0, regex=True).replace(3,1, regex=True))\n",
    "\n",
    "N = dfIrisAll.shape[0]\n",
    "#X = np.hstack((dfIrisAll, np.ones((N,1)) ))\n",
    "X = np.matrix(dfIrisAll)\n",
    "eta = 0.001\n",
    "\n",
    "def sigmoid(x):\n",
    "    return 1/(1+np.exp(-x))\n",
    "\n",
    "def classify(y,description):\n",
    "    w = np.matrix([1,1,1,1]).T\n",
    "    \n",
    "    for i in range(10000):\n",
    "        pr = sigmoid(X*w)\n",
    "        w = w + eta*X.T*(y-pr)\n",
    "        \n",
    "    print(description)\n",
    "    print(w)\n",
    "    print(\"\\n\")\n",
    "    \n",
    "# - Classify 1 versus 2,3\n",
    "classify(y1,\"Classify 1 versus 2,3\")\n",
    "\n",
    "# - Classify 2 versus 1,3\n",
    "classify(y2,\"Classify 2 versus 1,3\")\n",
    "\n",
    "# - Classify 3 versus 1,2\n",
    "classify(y3,\"Classify 3 versus 1,2\")"
   ]
  },
  {
   "cell_type": "code",
   "execution_count": null,
   "metadata": {
    "collapsed": true
   },
   "outputs": [],
   "source": []
  },
  {
   "cell_type": "code",
   "execution_count": null,
   "metadata": {
    "collapsed": true
   },
   "outputs": [],
   "source": []
  }
 ],
 "metadata": {
  "celltoolbar": "Edit Metadata",
  "kernelspec": {
   "display_name": "Python 3",
   "language": "python",
   "name": "python3"
  },
  "language_info": {
   "codemirror_mode": {
    "name": "ipython",
    "version": 3
   },
   "file_extension": ".py",
   "mimetype": "text/x-python",
   "name": "python",
   "nbconvert_exporter": "python",
   "pygments_lexer": "ipython3",
   "version": "3.5.1"
  }
 },
 "nbformat": 4,
 "nbformat_minor": 0
}
