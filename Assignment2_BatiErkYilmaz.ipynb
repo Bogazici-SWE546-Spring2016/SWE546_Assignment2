{
 "cells": [
  {
   "cell_type": "code",
   "execution_count": 34,
   "metadata": {
    "collapsed": false
   },
   "outputs": [],
   "source": [
    "import numpy as np\n",
    "import pandas as pd\n",
    "\n",
    "## Read and prepare the data\n",
    "df_iris = pd.read_csv(u'data/iris.txt',sep=' ')\n",
    "\n",
    "sl = np.matrix(df_iris.sl).T\n",
    "sw = np.matrix(df_iris.sw).T\n",
    "pl = np.matrix(df_iris.pl).T\n",
    "pw = np.matrix(df_iris.pw).T\n",
    "\n",
    "X = np.hstack((sl,sw,pl,pw))"
   ]
  },
  {
   "cell_type": "code",
   "execution_count": 62,
   "metadata": {
    "collapsed": false
   },
   "outputs": [],
   "source": [
    "## Helper Functions\n",
    "def sigmoid(x):\n",
    "    return 1/(1+np.exp(-x))\n",
    "\n",
    "def applyLogisticRegressionForClass(eta,iteration,X,currentClass):\n",
    "    y = np.matrix(df_iris.c).T\n",
    "    w = np.matrix([0,0,0,0]).T\n",
    "    y[y != currentClass] = 0\n",
    "    y[y == currentClass] = 1        \n",
    "    \n",
    "    for i in range(iteration):\n",
    "        pr = sigmoid(X*w)\n",
    "        w = w + eta*X.T*(y-pr) \n",
    "    return w;"
   ]
  },
  {
   "cell_type": "code",
   "execution_count": 63,
   "metadata": {
    "collapsed": false
   },
   "outputs": [
    {
     "name": "stdout",
     "output_type": "stream",
     "text": [
      "Classifying class 1 against class 2 and class 3 \n",
      "\n",
      "[[ 0.63211484]\n",
      " [ 2.0112702 ]\n",
      " [-3.09189333]\n",
      " [-1.4141242 ]]\n"
     ]
    }
   ],
   "source": [
    "print(\"Classifying class 1 against class 2 and class 3 \\n\")\n",
    "w_class_1 = applyLogisticRegressionForClass(0.001,1000,X,1)\n",
    "print(w_class_1)"
   ]
  },
  {
   "cell_type": "code",
   "execution_count": 69,
   "metadata": {
    "collapsed": false
   },
   "outputs": [
    {
     "name": "stdout",
     "output_type": "stream",
     "text": [
      "Classifying class 2 against class 1 and class 3 \n",
      "\n",
      "[[ 0.82124986]\n",
      " [-1.87564507]\n",
      " [ 0.60622843]\n",
      " [-1.87388846]]\n"
     ]
    }
   ],
   "source": [
    "print(\"Classifying class 2 against class 1 and class 3 \\n\")\n",
    "w_class_2 = applyLogisticRegressionForClass(0.001,1000,X,2)\n",
    "print(w_class_2)"
   ]
  },
  {
   "cell_type": "code",
   "execution_count": 67,
   "metadata": {
    "collapsed": false
   },
   "outputs": [
    {
     "name": "stdout",
     "output_type": "stream",
     "text": [
      "Classifying class 3 against class 1 and class 2 \n",
      "\n",
      "[[-2.62821246]\n",
      " [-2.33295249]\n",
      " [ 3.55016773]\n",
      " [ 3.47792202]]\n"
     ]
    }
   ],
   "source": [
    "print(\"Classifying class 3 against class 1 and class 2 \\n\")\n",
    "w_class_3 = applyLogisticRegressionForClass(0.001,1000,X,3)\n",
    "print(w_class_3)"
   ]
  }
 ],
 "metadata": {
  "kernelspec": {
   "display_name": "Python 2",
   "language": "python",
   "name": "python2"
  },
  "language_info": {
   "codemirror_mode": {
    "name": "ipython",
    "version": 2
   },
   "file_extension": ".py",
   "mimetype": "text/x-python",
   "name": "python",
   "nbconvert_exporter": "python",
   "pygments_lexer": "ipython2",
   "version": "2.7.11"
  }
 },
 "nbformat": 4,
 "nbformat_minor": 0
}
