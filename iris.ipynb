{
 "cells": [
  {
   "cell_type": "markdown",
   "metadata": {},
   "source": [
    "** BOUN SWE546 ASSIGNMENT 2 **\n",
    "\n",
    "by Mahmut Ali ÖZKURAN.\n",
    "\n",
    "\n",
    "### Loading Required Libraries With Data\n",
    "\n"
   ]
  },
  {
   "cell_type": "code",
   "execution_count": 55,
   "metadata": {
    "collapsed": false
   },
   "outputs": [],
   "source": [
    "import matplotlib.pyplot as plt\n",
    "from sklearn import datasets\n",
    "from sklearn.decomposition import PCA\n",
    "import numpy as np\n",
    "import pandas as pd\n",
    "from scipy.special import expit as sigmoid\n",
    "\n",
    "iris = datasets.load_iris()\n",
    "iris_x = iris.data  # data\n",
    "iris_y = iris.target  # classes\n",
    "#print(iris_x[:,0])\n",
    "#print(iris_x)\n",
    "#print(iris_y)"
   ]
  },
  {
   "cell_type": "markdown",
   "metadata": {},
   "source": [
    "### Classes"
   ]
  },
  {
   "cell_type": "code",
   "execution_count": 22,
   "metadata": {
    "collapsed": false
   },
   "outputs": [
    {
     "name": "stdout",
     "output_type": "stream",
     "text": [
      "[0 0 0 0 0 0 0 0 0 0 0 0 0 0 0 0 0 0 0 0 0 0 0 0 0 0 0 0 0 0 0 0 0 0 0 0 0\n",
      " 0 0 0 0 0 0 0 0 0 0 0 0 0 1 1 1 1 1 1 1 1 1 1 1 1 1 1 1 1 1 1 1 1 1 1 1 1\n",
      " 1 1 1 1 1 1 1 1 1 1 1 1 1 1 1 1 1 1 1 1 1 1 1 1 1 1 2 2 2 2 2 2 2 2 2 2 2\n",
      " 2 2 2 2 2 2 2 2 2 2 2 2 2 2 2 2 2 2 2 2 2 2 2 2 2 2 2 2 2 2 2 2 2 2 2 2 2\n",
      " 2 2]\n"
     ]
    }
   ],
   "source": [
    "print(iris_y)"
   ]
  },
  {
   "cell_type": "markdown",
   "metadata": {},
   "source": [
    "### Data"
   ]
  },
  {
   "cell_type": "code",
   "execution_count": 23,
   "metadata": {
    "collapsed": false
   },
   "outputs": [
    {
     "name": "stdout",
     "output_type": "stream",
     "text": [
      "[[ 5.1  3.5  1.4  0.2]\n",
      " [ 4.9  3.   1.4  0.2]\n",
      " [ 4.7  3.2  1.3  0.2]\n",
      " [ 4.6  3.1  1.5  0.2]\n",
      " [ 5.   3.6  1.4  0.2]\n",
      " [ 5.4  3.9  1.7  0.4]\n",
      " [ 4.6  3.4  1.4  0.3]\n",
      " [ 5.   3.4  1.5  0.2]\n",
      " [ 4.4  2.9  1.4  0.2]\n",
      " [ 4.9  3.1  1.5  0.1]]\n"
     ]
    }
   ],
   "source": [
    "print(iris_x[:10])"
   ]
  },
  {
   "cell_type": "markdown",
   "metadata": {},
   "source": [
    "### Classify"
   ]
  },
  {
   "cell_type": "code",
   "execution_count": 54,
   "metadata": {
    "collapsed": false
   },
   "outputs": [
    {
     "name": "stdout",
     "output_type": "stream",
     "text": [
      "Classifying class 0 vs other two\n",
      "[[ 0.3857123 ]\n",
      " [ 2.37658554]\n",
      " [-3.16898511]\n",
      " [-0.83440533]]\n",
      "Classifying class 1 vs other two\n",
      "[[ 0.82353294]\n",
      " [-1.86190427]\n",
      " [ 0.54807294]\n",
      " [-1.73390722]]\n",
      "Classifying class 2 vs other two\n",
      "[[-2.67684002]\n",
      " [-2.20809487]\n",
      " [ 3.45686165]\n",
      " [ 3.72025078]]\n"
     ]
    }
   ],
   "source": [
    "def sigmoid(x):\n",
    "    return 1/(1+np.exp(-x))\n",
    "\n",
    "for x in range(0, 3):\n",
    "    classes = np.matrix(iris_y).T\n",
    "    vs = np.matrix([1,1,1,1]).T\n",
    "    val = np.matrix(iris_x)\n",
    "\n",
    "    for i in range(len(classes)):\n",
    "        if classes[i,0] == x:\n",
    "            classes[i,0] = 1\n",
    "        else:\n",
    "            classes[i,0] = 0\n",
    "    #print(classes)\n",
    "    print(\"Classifying class %d vs other two\" % x)\n",
    "    for i in range(10000):\n",
    "        pr = sigmoid(iris_x*vs)\n",
    "        vs = vs+0.0001*iris_x.T*(classes-pr)\n",
    "\n",
    "    print(vs)"
   ]
  }
 ],
 "metadata": {
  "kernelspec": {
   "display_name": "Python 3",
   "language": "python",
   "name": "python3"
  },
  "language_info": {
   "codemirror_mode": {
    "name": "ipython",
    "version": 3
   },
   "file_extension": ".py",
   "mimetype": "text/x-python",
   "name": "python",
   "nbconvert_exporter": "python",
   "pygments_lexer": "ipython3",
   "version": "3.5.1"
  }
 },
 "nbformat": 4,
 "nbformat_minor": 0
}
