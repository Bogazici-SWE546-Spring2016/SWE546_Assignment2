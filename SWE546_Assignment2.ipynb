{
 "cells": [
  {
   "cell_type": "markdown",
   "metadata": {},
   "source": [
    "# NİHAL ER | 2015719069"
   ]
  },
  {
   "cell_type": "markdown",
   "metadata": {},
   "source": [
    "SWE546 - Assignment2 || Logistic Regression\n",
    "\n",
    "Using the Iris dataset, find the optimum logistic regression parameters for the following three problems:\n",
    "\n",
    "1- Classify 1 versus 2,3\n",
    "\n",
    "2- Classify 2 versus 1,3\n",
    "\n",
    "3- Classify 3 versus 1,2\n",
    "\n",
    "Your program should output three parameter vectors, each of lenght 4"
   ]
  },
  {
   "cell_type": "code",
   "execution_count": 45,
   "metadata": {
    "collapsed": false
   },
   "outputs": [],
   "source": [
    "%matplotlib inline\n",
    "import numpy as np\n",
    "import pandas as pd\n",
    "\n",
    "\n",
    "df_iris = pd.read_csv(u'iris.txt',sep=' ')\n",
    "\n",
    "\n",
    "#Define Sigmoid function\n",
    "\n",
    "def sigmoid(x):\n",
    "    return 1/(1+np.exp(-x))\n",
    "\n",
    "\n",
    "#Define X,w,eta\n",
    "\n",
    "#Column sl,sw,pl,pw will be the features of this model, in other words, these columns will create X matrix\n",
    "X = np.hstack((np.matrix(df_iris.sl[0:]).T,np.matrix(df_iris.sw[0:]).T,np.matrix(df_iris.pl[0:]).T,np.matrix(df_iris.pw[0:]).T))\n",
    "w = np.matrix([1,1,1,1]).T\n",
    "eta = 0.001\n"
   ]
  },
  {
   "cell_type": "markdown",
   "metadata": {},
   "source": [
    "**Problem1: Classify 1 versus 2,3**\n"
   ]
  },
  {
   "cell_type": "code",
   "execution_count": 46,
   "metadata": {
    "collapsed": false
   },
   "outputs": [
    {
     "name": "stdout",
     "output_type": "stream",
     "text": [
      "[[ 0.71883956]\n",
      " [ 3.36466218]\n",
      " [-4.74062616]\n",
      " [-1.61263832]]\n"
     ]
    }
   ],
   "source": [
    "y = np.matrix(df_iris.c[0:]).T\n",
    "\n",
    "#if column c equals 1 then write 1, otherwise owerwrite with 0\n",
    "for i in range(150):\n",
    "        if y[i,0] == 1:\n",
    "            y[i,0] = 1\n",
    "        else:\n",
    "            y[i,0] = 0\n",
    "            \n",
    "for i in range(10000):\n",
    "    pr = sigmoid(X*w)\n",
    "    w = w + eta*X.T*(y-pr) \n",
    "\n",
    "print(w)"
   ]
  },
  {
   "cell_type": "markdown",
   "metadata": {},
   "source": [
    "**Problem2: Classify 2 versus 1,3**\n"
   ]
  },
  {
   "cell_type": "code",
   "execution_count": 47,
   "metadata": {
    "collapsed": false
   },
   "outputs": [
    {
     "name": "stdout",
     "output_type": "stream",
     "text": [
      "[[ 0.73297827]\n",
      " [-1.87863923]\n",
      " [ 1.0469775 ]\n",
      " [-2.84360536]]\n"
     ]
    }
   ],
   "source": [
    "y = np.matrix(df_iris.c[0:]).T\n",
    "\n",
    "#if column c equals 2 then write 1, otherwise owerwrite with 0\n",
    "for i in range(150):\n",
    "        if y[i,0] == 2:\n",
    "            y[i,0] = 1\n",
    "        else:\n",
    "            y[i,0] = 0\n",
    "            \n",
    "for i in range(10000):\n",
    "    pr = sigmoid(X*w)\n",
    "    w = w + eta*X.T*(y-pr) \n",
    "\n",
    "print(w)"
   ]
  },
  {
   "cell_type": "markdown",
   "metadata": {},
   "source": [
    "**Problem3: Classify 3 versus 1,2**\n"
   ]
  },
  {
   "cell_type": "code",
   "execution_count": 48,
   "metadata": {
    "collapsed": false
   },
   "outputs": [
    {
     "name": "stdout",
     "output_type": "stream",
     "text": [
      "[[-4.88180307]\n",
      " [-4.9494954 ]\n",
      " [ 6.50105879]\n",
      " [ 7.71000705]]\n"
     ]
    }
   ],
   "source": [
    "y = np.matrix(df_iris.c[0:]).T\n",
    "\n",
    "#if column c equals 3 then write 1, otherwise owerwrite with 0\n",
    "for i in range(150):\n",
    "        if y[i,0] == 3:\n",
    "            y[i,0] = 1\n",
    "        else:\n",
    "            y[i,0] = 0\n",
    "            \n",
    "for i in range(10000):\n",
    "    pr = sigmoid(X*w)\n",
    "    w = w + eta*X.T*(y-pr) \n",
    "\n",
    "print(w)"
   ]
  }
 ],
 "metadata": {
  "kernelspec": {
   "display_name": "Python 3",
   "language": "python",
   "name": "python3"
  },
  "language_info": {
   "codemirror_mode": {
    "name": "ipython",
    "version": 3
   },
   "file_extension": ".py",
   "mimetype": "text/x-python",
   "name": "python",
   "nbconvert_exporter": "python",
   "pygments_lexer": "ipython3",
   "version": "3.5.1"
  }
 },
 "nbformat": 4,
 "nbformat_minor": 0
}
