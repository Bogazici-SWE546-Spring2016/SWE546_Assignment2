{
 "cells": [
  {
   "cell_type": "markdown",
   "metadata": {
    "collapsed": true
   },
   "source": [
    "# SWE 546 ASSIGNMENT2\n",
    "\n",
    "Umur Türkay"
   ]
  },
  {
   "cell_type": "code",
   "execution_count": 264,
   "metadata": {
    "collapsed": true
   },
   "outputs": [],
   "source": [
    "%matplotlib inline\n",
    "import numpy as np\n",
    "import pandas as pd\n",
    "import matplotlib as mpl\n",
    "import matplotlib.pylab as plt"
   ]
  },
  {
   "cell_type": "code",
   "execution_count": 265,
   "metadata": {
    "collapsed": false
   },
   "outputs": [],
   "source": [
    "def sigmoid(x):\n",
    "    return 1/(1+np.exp(-x))\n",
    "\n",
    "eta = 0.001"
   ]
  },
  {
   "cell_type": "code",
   "execution_count": 266,
   "metadata": {
    "collapsed": false
   },
   "outputs": [],
   "source": [
    "#the function reading the iris file and setting a c array\n",
    "def readData(fileName):\n",
    "    dataFrame = pd.read_csv(fileName,sep=' ')\n",
    "    classArray = np.hstack(dataFrame.c.drop_duplicates())\n",
    "    \n",
    "    return(dataFrame, classArray)\n",
    "\n",
    "#the function which does the classifying and prints the optimum logistic regression parameters (w) for the corresponding\n",
    "#c value\n",
    "def classify(dataFrame, classArray, cls):\n",
    "    dataColumns = dataFrame[['sl','sw','pl','pw']]\n",
    "    \n",
    "    X = np.matrix(dataColumns)\n",
    "    w = np.matrix([1,1,1,1]).T\n",
    "    \n",
    "    y = dataFrame[['c']]\n",
    "    for i in range(len(classArray)):\n",
    "        if classArray[i] == cls:\n",
    "            y = y.replace(classArray[i],1)\n",
    "        else:\n",
    "            y = y.replace(classArray[i],0)\n",
    "    \n",
    "    y = np.matrix(y)\n",
    "    for i in range(10000):\n",
    "        prob = sigmoid(X*w)\n",
    "        w = w + eta*X.T*(y-prob)\n",
    "        \n",
    "    print(w)    "
   ]
  },
  {
   "cell_type": "code",
   "execution_count": 267,
   "metadata": {
    "collapsed": false
   },
   "outputs": [],
   "source": [
    "dataFrame, classArray = readData('iris.txt')"
   ]
  },
  {
   "cell_type": "code",
   "execution_count": 268,
   "metadata": {
    "collapsed": false
   },
   "outputs": [
    {
     "name": "stdout",
     "output_type": "stream",
     "text": [
      "[[ 0.71883956]\n",
      " [ 3.36466218]\n",
      " [-4.74062616]\n",
      " [-1.61263832]]\n"
     ]
    }
   ],
   "source": [
    "#Classify 1 versus 2,3\n",
    "classify(dataFrame, classArray, 1)"
   ]
  },
  {
   "cell_type": "code",
   "execution_count": 269,
   "metadata": {
    "collapsed": false
   },
   "outputs": [
    {
     "name": "stdout",
     "output_type": "stream",
     "text": [
      "[[ 0.73300616]\n",
      " [-1.87866542]\n",
      " [ 1.04693053]\n",
      " [-2.84352623]]\n"
     ]
    }
   ],
   "source": [
    "#Classify 2 versus 1,3\n",
    "classify(dataFrame, classArray, 2)"
   ]
  },
  {
   "cell_type": "code",
   "execution_count": 270,
   "metadata": {
    "collapsed": false
   },
   "outputs": [
    {
     "name": "stdout",
     "output_type": "stream",
     "text": [
      "[[-4.80685745]\n",
      " [-4.96911165]\n",
      " [ 6.35877022]\n",
      " [ 7.88567013]]\n"
     ]
    }
   ],
   "source": [
    "#Classify 3 versus 1,2\n",
    "classify(dataFrame, classArray, 3)"
   ]
  },
  {
   "cell_type": "code",
   "execution_count": null,
   "metadata": {
    "collapsed": true
   },
   "outputs": [],
   "source": []
  }
 ],
 "metadata": {
  "kernelspec": {
   "display_name": "Python 3",
   "language": "python",
   "name": "python3"
  },
  "language_info": {
   "codemirror_mode": {
    "name": "ipython",
    "version": 3
   },
   "file_extension": ".py",
   "mimetype": "text/x-python",
   "name": "python",
   "nbconvert_exporter": "python",
   "pygments_lexer": "ipython3",
   "version": "3.5.1"
  }
 },
 "nbformat": 4,
 "nbformat_minor": 0
}
