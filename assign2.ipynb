{
  "cells": [
    {
      "cell_type": "code",
      "execution_count": 2,
      "metadata": {
        "collapsed": true
      },
      "outputs": [],
      "source": [
        "import numpy as np\n",
        "import pandas as pd\n",
        "\n",
        "data_items = pd.read_csv( \"iris.txt\", sep=\" \" )"
      ]
    },
    {
      "cell_type": "code",
      "execution_count": 11,
      "metadata": {
        "collapsed": false
      },
      "outputs": [],
      "source": [
        "# Sigmoid function definition\n\n",
        "def sigmoid( t ):\n",
        "    return 1 / (  1 + np.exp( -t ) )"
      ]
    },
    {
      "cell_type": "code",
      "execution_count": 20,
      "metadata": {
        "collapsed": false
      },
      "outputs": [],
      "source": [
        "values = np.hstack( \n        ( np.vstack( data_items.sl ),        \nnp.vstack( data_items.sw ),        \nnp.vstack( data_items.pl ),         \nnp.vstack( data_items.pw )\n ) )"
      ]
    },
    {
      "cell_type": "code",
      "execution_count": 21,
      "metadata": {
        "collapsed": false
      },
      "outputs": [
        {
          "name": "stdout",
          "output_type": "stream",
          "text": [
            "[[ 0.71883956]\n",
            " [ 3.36466218]\n",
            " [-4.74062616]\n",
            " [-1.61263832]]\n"
          ]
        }
      ],
      "source": [
        "y = np.vstack( data_items.c )\n",
        "\n",
        "result = np.matrix( np.ones( 4 ) ).T\n",
        "\n",
        "for i in range( len( y ) ):\n",
        "    y[i,0] = 1 if y[i,0] == 1 else 0\n",
        "    \n",
        "for i in range( 10000 ):\n",
        "    p = sigmoid( values * result )\n",
        "    result = result + 0.001 * values.T * ( y - p )\n",
        "print( result )"
      ]
    },
    {
      "cell_type": "code",
      "execution_count": 23,
      "metadata": {
        "collapsed": false
      },
      "outputs": [
        {
          "name": "stdout",
          "output_type": "stream",
          "text": [
            "[[ 0.73300616]\n",
            " [-1.87866542]\n",
            " [ 1.04693053]\n",
            " [-2.84352623]]\n"
          ]
        }
      ],
      "source": [
        "y = np.vstack( data_items.c )\n",
        "\n",
        "result = np.matrix( np.ones( 4 ) ).T\n",
        "\n",
        "for i in range( len( y ) ):\n",
        "    y[i,0] = 1 if y[i,0] == 2 else 0\n",
        "    \n",
        "for i in range( 10000 ):\n",
        "    p = sigmoid( values * result )\n",
        "    result = result + 0.001 * values.T * ( y - p )\n",
        "print( result )"
      ]
    },
    {
      "cell_type": "code",
      "execution_count": 34,
      "metadata": {
        "collapsed": false
      },
      "outputs": [
        {
          "name": "stdout",
          "output_type": "stream",
          "text": [
            "[[-4.80685745]\n",
            " [-4.96911165]\n",
            " [ 6.35877022]\n",
            " [ 7.88567013]]\n"
          ]
        }
      ],
      "source": [
        "y = np.vstack( data_items.c )\n",
        "\n",
        "result = np.matrix( np.ones( 4 ) ).T\n",
        "\n",
        "for i in range( len( y ) ):\n",
        "    y[i,0] = 1 if y[i,0] == 3 else 0\n",
        "    \n",
        "for i in range( 10000 ):\n",
        "    p = sigmoid( values * result )\n",
        "    result = result + 0.001 * values.T * ( y - p )\n",
        "print( result )"
      ]
    }
  ],
  "metadata": {
    "kernelspec": {
      "display_name": "Python 3",
      "language": "python",
      "name": "python3"
    },
    "language_info": {
      "codemirror_mode": {
        "name": "ipython",
        "version": 3
      },
      "file_extension": ".py",
      "mimetype": "text/x-python",
      "name": "python",
      "nbconvert_exporter": "python",
      "pygments_lexer": "ipython3",
      "version": "3.5.1"
    }
  },
  "nbformat": 4,
  "nbformat_minor": 0
}
