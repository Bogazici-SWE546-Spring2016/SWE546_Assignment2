{
 "cells": [
  {
   "cell_type": "code",
   "execution_count": 35,
   "metadata": {},
   "outputs": [
    {
     "name": "stdout",
     "output_type": "stream",
     "text": [
      "w1\n[[ 0.93933138]\n [ 3.02491508]\n [-4.64943993]\n [-2.17020562]]\n\n"
     ]
    },
    {
     "name": "stdout",
     "output_type": "stream",
     "text": [
      "\nw2\n[[ 0.73278841]\n [-1.87846093]\n [ 1.04729739]\n [-2.84414427]]\n\n"
     ]
    },
    {
     "name": "stdout",
     "output_type": "stream",
     "text": [
      "\nw3\n[[-4.88182804]\n [-4.94948557]\n [ 6.50110094]\n [ 7.7099585 ]]\n"
     ]
    }
   ],
   "source": [
    "import numpy as np\n",
    "import pandas as pd\n",
    "\n",
    "df_iris = pd.read_csv(u'data/iris.txt', sep=' ')\n",
    "\n",
    "\n",
    "def sigmoid(x):\n",
    "    return 1 / (1 + np.exp(-x))\n",
    "\n",
    "feature_sl = np.matrix(df_iris.sl[:]).T\n",
    "feature_sw = np.matrix(df_iris.sw[:]).T\n",
    "feature_pl = np.matrix(df_iris.pl[:]).T\n",
    "feature_pw = np.matrix(df_iris.pw[:]).T\n",
    "\n",
    "iris_type = np.matrix(df_iris.c[:]).T\n",
    "\n",
    "X = np.vstack([df_iris.sl[i], df_iris.sw[i], df_iris.pl[i], df_iris.pw[i]] for i in range(len(iris_type)))\n",
    "\n",
    "w = np.mat('[0;0;0;0]')\n",
    "\n",
    "mark_1 = np.vstack(1 if iris_type[i] == 1 else 0 for i in range(len(iris_type)))\n",
    "mark_2 = np.vstack(1 if iris_type[i] == 2 else 0 for i in range(len(iris_type)))\n",
    "mark_3 = np.vstack(1 if iris_type[i] == 3 else 0 for i in range(len(iris_type)))\n",
    "\n",
    "eta = 0.001\n",
    "for i in range(10000):\n",
    "    pr = sigmoid(X * w)\n",
    "    w = w + eta * X.T * (mark_1 - pr)\n",
    "\n",
    "print(\"w1\")\n",
    "print(w)\n",
    "\n",
    "eta = 0.001\n",
    "for i in range(10000):\n",
    "    pr = sigmoid(X * w)\n",
    "    w = w + eta * X.T * (mark_2 - pr)\n",
    "\n",
    "print(\"\\n\")\n",
    "print(\"w2\")    \n",
    "print(w)\n",
    "\n",
    "eta = 0.001\n",
    "for i in range(10000):\n",
    "    pr = sigmoid(X * w)\n",
    "    w = w + eta * X.T * (mark_3 - pr)\n",
    "    \n",
    "print(\"\\n\")\n",
    "print(\"w3\")   \n",
    "print(w)"
   ]
  }
 ],
 "metadata": {},
 "nbformat": 4,
 "nbformat_minor": 0
}