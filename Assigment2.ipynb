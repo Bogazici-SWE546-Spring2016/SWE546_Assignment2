{
 "cells": [
  {
   "cell_type": "code",
   "execution_count": 15,
   "metadata": {},
   "outputs": [
    {
     "name": "stdout",
     "output_type": "stream",
     "text": [
      "*** w for type-1 ***\n[[ 0.93933138]\n [ 3.02491508]\n [-4.64943993]\n [-2.17020562]]\n\n\n----------\n\n*** w for type-2 ***"
     ]
    },
    {
     "name": "stdout",
     "output_type": "stream",
     "text": [
      "\n[[ 0.73282994]\n [-1.87849993]\n [ 1.04722742]\n [-2.84402639]]\n\n\n----------\n\n*** w for type-3 ***"
     ]
    },
    {
     "name": "stdout",
     "output_type": "stream",
     "text": [
      "\n[[-4.81285544]\n [-4.963746  ]\n [ 6.37297801]\n [ 7.85661824]]\n\n\n----------\n\n"
     ]
    }
   ],
   "source": [
    "import numpy as np\n",
    "import pandas as pd\n",
    "\n",
    "df_iris = pd.read_csv(u'data/iris.txt', sep=' ')\n",
    "\n",
    "\n",
    "eta = 0.001\n",
    "\n",
    "# given iris type matrix\n",
    "iris_type = np.matrix(df_iris.c[:]).T\n",
    "\n",
    "# classify iris types. 1 for given type, 0 otherwise\n",
    "mark_1 = np.vstack(1 if iris_type[i] == 1 else 0 for i in range(len(iris_type)))\n",
    "mark_2 = np.vstack(1 if iris_type[i] == 2 else 0 for i in range(len(iris_type)))\n",
    "mark_3 = np.vstack(1 if iris_type[i] == 3 else 0 for i in range(len(iris_type)))\n",
    "\n",
    "# feature matrix\n",
    "X = np.vstack([df_iris.sl[i], df_iris.sw[i], df_iris.pl[i], df_iris.pw[i]] for i in range(len(iris_type)))\n",
    "\n",
    "\n",
    "def sigmoid(x):\n",
    "    return 1 / (1 + np.exp(-x))\n",
    "\n",
    "\n",
    "def find_w(logic_matrix, iris_type):\n",
    "    # initial w\n",
    "    w = np.mat('[0;0;0;0]')\n",
    "    for i in range(10000):\n",
    "        pr = sigmoid(X * w)\n",
    "        w = w + eta * X.T * (logic_matrix - pr)\n",
    "\n",
    "    print(\"*** w for type-\" + iris_type + \" ***\")\n",
    "    print(w)\n",
    "    print(\"\\n\\n----------\\n\")\n",
    "\n",
    "find_w(mark_1, \"1\")\n",
    "find_w(mark_2, \"2\")\n",
    "find_w(mark_3, \"3\")\n"
   ]
  }
 ],
 "metadata": {},
 "nbformat": 4,
 "nbformat_minor": 0
}